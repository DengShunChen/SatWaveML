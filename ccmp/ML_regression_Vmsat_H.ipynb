{
 "cells": [
  {
   "cell_type": "code",
   "execution_count": 9,
   "id": "entitled-multimedia",
   "metadata": {},
   "outputs": [],
   "source": [
    "import matplotlib.pyplot as plt\n",
    "import numpy as np\n",
    "import pandas as pd\n",
    "import seaborn as sns\n",
    "\n",
    "\n",
    "# Make numpy printouts easier to read.\n",
    "np.set_printoptions(precision=3, suppress=True)"
   ]
  },
  {
   "cell_type": "code",
   "execution_count": 10,
   "id": "proper-discipline",
   "metadata": {},
   "outputs": [],
   "source": [
    "import sqlite3\n",
    "import json"
   ]
  },
  {
   "cell_type": "code",
   "execution_count": 11,
   "id": "smaller-yacht",
   "metadata": {},
   "outputs": [
    {
     "name": "stdout",
     "output_type": "stream",
     "text": [
      "2.4.1\n"
     ]
    }
   ],
   "source": [
    "import tensorflow as tf\n",
    "\n",
    "from tensorflow import keras\n",
    "from tensorflow.keras import layers\n",
    "from tensorflow.keras.layers.experimental import preprocessing\n",
    "\n",
    "print(tf.__version__)"
   ]
  },
  {
   "cell_type": "markdown",
   "id": "drawn-civilian",
   "metadata": {},
   "source": [
    "## Read in data\n",
    "\n",
    "read in station name"
   ]
  },
  {
   "cell_type": "code",
   "execution_count": 12,
   "id": "hollow-colombia",
   "metadata": {
    "scrolled": true
   },
   "outputs": [
    {
     "data": {
      "text/html": [
       "<div>\n",
       "<style scoped>\n",
       "    .dataframe tbody tr th:only-of-type {\n",
       "        vertical-align: middle;\n",
       "    }\n",
       "\n",
       "    .dataframe tbody tr th {\n",
       "        vertical-align: top;\n",
       "    }\n",
       "\n",
       "    .dataframe thead th {\n",
       "        text-align: right;\n",
       "    }\n",
       "</style>\n",
       "<table border=\"1\" class=\"dataframe\">\n",
       "  <thead>\n",
       "    <tr style=\"text-align: right;\">\n",
       "      <th></th>\n",
       "      <th>ST</th>\n",
       "      <th>STN</th>\n",
       "      <th>LAT</th>\n",
       "      <th>LON</th>\n",
       "      <th>LOCATE</th>\n",
       "      <th>OWNER</th>\n",
       "    </tr>\n",
       "  </thead>\n",
       "  <tbody>\n",
       "    <tr>\n",
       "      <th>0</th>\n",
       "      <td>4N11</td>\n",
       "      <td>將軍</td>\n",
       "      <td>null</td>\n",
       "      <td>null</td>\n",
       "      <td>臺南將軍安檢所樓頂</td>\n",
       "      <td>氣象局</td>\n",
       "    </tr>\n",
       "    <tr>\n",
       "      <th>1</th>\n",
       "      <td>46694A</td>\n",
       "      <td>龍洞浮標</td>\n",
       "      <td>25.097778</td>\n",
       "      <td>121.9225</td>\n",
       "      <td>東北角龍洞遊艇港外海約0.25公里，該處水深約27公尺。</td>\n",
       "      <td>中央氣象局</td>\n",
       "    </tr>\n",
       "    <tr>\n",
       "      <th>2</th>\n",
       "      <td>46699A</td>\n",
       "      <td>花蓮浮標</td>\n",
       "      <td>24.031944</td>\n",
       "      <td>121.631389</td>\n",
       "      <td>花蓮七星潭外海約1公里，該處水深約30公尺。</td>\n",
       "      <td>中央氣象局</td>\n",
       "    </tr>\n",
       "    <tr>\n",
       "      <th>3</th>\n",
       "      <td>46708A</td>\n",
       "      <td>龜山島浮標</td>\n",
       "      <td>24.846667</td>\n",
       "      <td>121.926111</td>\n",
       "      <td>宜蘭龜山島龜尾端西方1公里，該處水深約25公尺。</td>\n",
       "      <td>交通部觀光局</td>\n",
       "    </tr>\n",
       "    <tr>\n",
       "      <th>4</th>\n",
       "      <td>46714D</td>\n",
       "      <td>小琉球浮標</td>\n",
       "      <td>22.313611</td>\n",
       "      <td>120.362778</td>\n",
       "      <td>小琉球海子口西南方外海約1.2公里，該處水深約99公尺。</td>\n",
       "      <td>中央氣象局</td>\n",
       "    </tr>\n",
       "    <tr>\n",
       "      <th>...</th>\n",
       "      <td>...</td>\n",
       "      <td>...</td>\n",
       "      <td>...</td>\n",
       "      <td>...</td>\n",
       "      <td>...</td>\n",
       "      <td>...</td>\n",
       "    </tr>\n",
       "    <tr>\n",
       "      <th>97</th>\n",
       "      <td>1306</td>\n",
       "      <td>臺北港</td>\n",
       "      <td>25.156667</td>\n",
       "      <td>121.371667</td>\n",
       "      <td>臺北港第3港埠</td>\n",
       "      <td>氣象局</td>\n",
       "    </tr>\n",
       "    <tr>\n",
       "      <th>98</th>\n",
       "      <td>1821</td>\n",
       "      <td>福隆</td>\n",
       "      <td>25.021667</td>\n",
       "      <td>121.95</td>\n",
       "      <td>福隆漁港碼頭</td>\n",
       "      <td>氣象局</td>\n",
       "    </tr>\n",
       "    <tr>\n",
       "      <th>99</th>\n",
       "      <td>1315</td>\n",
       "      <td>彭佳嶼</td>\n",
       "      <td>25.625278</td>\n",
       "      <td>122.075556</td>\n",
       "      <td>彭佳嶼海水淡化廠附近</td>\n",
       "      <td>氣象局</td>\n",
       "    </tr>\n",
       "    <tr>\n",
       "      <th>100</th>\n",
       "      <td>1551</td>\n",
       "      <td>和平港</td>\n",
       "      <td>24.297778</td>\n",
       "      <td>121.753889</td>\n",
       "      <td>花蓮和平港防波堤</td>\n",
       "      <td>和平工業港公司</td>\n",
       "    </tr>\n",
       "    <tr>\n",
       "      <th>101</th>\n",
       "      <td>19901</td>\n",
       "      <td>南沙</td>\n",
       "      <td>null</td>\n",
       "      <td>null</td>\n",
       "      <td>南沙</td>\n",
       "      <td>氣象局</td>\n",
       "    </tr>\n",
       "  </tbody>\n",
       "</table>\n",
       "<p>102 rows × 6 columns</p>\n",
       "</div>"
      ],
      "text/plain": [
       "         ST    STN        LAT         LON                        LOCATE  \\\n",
       "0      4N11     將軍       null        null                     臺南將軍安檢所樓頂   \n",
       "1    46694A   龍洞浮標  25.097778    121.9225  東北角龍洞遊艇港外海約0.25公里，該處水深約27公尺。   \n",
       "2    46699A   花蓮浮標  24.031944  121.631389        花蓮七星潭外海約1公里，該處水深約30公尺。   \n",
       "3    46708A  龜山島浮標  24.846667  121.926111      宜蘭龜山島龜尾端西方1公里，該處水深約25公尺。   \n",
       "4    46714D  小琉球浮標  22.313611  120.362778  小琉球海子口西南方外海約1.2公里，該處水深約99公尺。   \n",
       "..      ...    ...        ...         ...                           ...   \n",
       "97     1306    臺北港  25.156667  121.371667                       臺北港第3港埠   \n",
       "98     1821     福隆  25.021667      121.95                        福隆漁港碼頭   \n",
       "99     1315    彭佳嶼  25.625278  122.075556                    彭佳嶼海水淡化廠附近   \n",
       "100    1551    和平港  24.297778  121.753889                      花蓮和平港防波堤   \n",
       "101   19901     南沙       null        null                            南沙   \n",
       "\n",
       "       OWNER  \n",
       "0        氣象局  \n",
       "1      中央氣象局  \n",
       "2      中央氣象局  \n",
       "3     交通部觀光局  \n",
       "4      中央氣象局  \n",
       "..       ...  \n",
       "97       氣象局  \n",
       "98       氣象局  \n",
       "99       氣象局  \n",
       "100  和平工業港公司  \n",
       "101      氣象局  \n",
       "\n",
       "[102 rows x 6 columns]"
      ]
     },
     "execution_count": 12,
     "metadata": {},
     "output_type": "execute_result"
    }
   ],
   "source": [
    "with open('buoy_station_name.json','r') as outfile:\n",
    "    stndata=json.load(outfile)\n",
    "\n",
    "data=[]\n",
    "for ids in stndata:\n",
    "    info = stndata[ids]\n",
    "    data.append([ids,info['STN'],info['LAT'],info['LON'],info['LOCATE'],info['OWNER']])\n",
    "    \n",
    "# set up column names\n",
    "columns = ['ST', 'STN','LAT','LON','LOCATE','OWNER']\n",
    "\n",
    "# list to DataFrame \n",
    "stdf = pd.DataFrame(data=data,columns=columns)\n",
    "stdf"
   ]
  },
  {
   "cell_type": "markdown",
   "id": "objective-colombia",
   "metadata": {},
   "source": [
    "## read in data from local sqlite database\n",
    "read in data "
   ]
  },
  {
   "cell_type": "code",
   "execution_count": 13,
   "id": "complex-remedy",
   "metadata": {},
   "outputs": [],
   "source": [
    "def read_sql(filename):\n",
    "    conn = sqlite3.connect(filename, timeout=10)\n",
    "    df = pd.read_sql(\"SELECT * FROM status\",con=conn)\n",
    "    conn.close()\n",
    "    return df\n",
    "\n",
    "filename = 'buoy_data.sqlite.db'\n",
    "df = read_sql(filename)"
   ]
  },
  {
   "cell_type": "code",
   "execution_count": 14,
   "id": "tired-allah",
   "metadata": {},
   "outputs": [],
   "source": [
    "df['DATETIME'] = pd.to_datetime(df['DATETIME'])\n",
    "\n",
    "df['H']        = df['H'].astype('float')/100.\n",
    "df['T']        = df['T'].astype('float')\n",
    "df['Tmean']    = df['Tmean'].astype('float')\n",
    "\n",
    "df['Temp']     = df['Temp'].astype('float')\n",
    "df['Zt']       = df['Zt'].astype('float')\n",
    "\n",
    "df['Vm']       = df['Vm'].astype('float')\n",
    "df['Dm']       = df['Dm'].astype('float')\n",
    "df['Vg']       = df['Vg'].astype('float')\n",
    "df['Vms']      = df['Vms'].astype('float')\n",
    "df['Vgs']      = df['Vgs'].astype('float')\n",
    "df['Zv']       = df['Zv'].astype('float')\n",
    "\n",
    "df['P']        = df['P'].astype('float')\n",
    "\n",
    "df['Vmsat']    = df['Vmsat'].astype('float')"
   ]
  },
  {
   "cell_type": "markdown",
   "id": "skilled-discretion",
   "metadata": {},
   "source": [
    "### add STN station name variable "
   ]
  },
  {
   "cell_type": "code",
   "execution_count": 17,
   "id": "formal-invite",
   "metadata": {},
   "outputs": [],
   "source": [
    "def label_stname (row):\n",
    "    if row['ST'] in stndata:\n",
    "        return stndata[row['ST']]['STN']\n",
    "    \n",
    "df['STN'] = df.apply (lambda row: label_stname(row), axis=1)"
   ]
  },
  {
   "cell_type": "markdown",
   "id": "improved-combat",
   "metadata": {},
   "source": [
    "## clean data"
   ]
  },
  {
   "cell_type": "code",
   "execution_count": 18,
   "id": "corresponding-constitution",
   "metadata": {},
   "outputs": [],
   "source": [
    "from datetime import datetime\n",
    "dataset = df[['STN','ST','DATETIME','H','Temp','P','Vm','Vmsat']]\n",
    "\n",
    "df_index = (dataset['DATETIME']>datetime(2015,1,1,0)) & (dataset['DATETIME']<datetime(2020,1,1,0))\n",
    "dataset = dataset[df_index]\n",
    "\n",
    "#stnlist=['新竹浮標','龜山島浮標','臺東外洋浮標','龍洞浮標','小琉球浮標','花蓮浮標','東沙島浮標','馬祖浮標']\n",
    "\n",
    "stnlist=['東沙島浮標']\n",
    "dataset = dataset[dataset['STN'].isin(stnlist)]\n",
    "\n",
    "dataset = dataset.dropna()"
   ]
  },
  {
   "cell_type": "code",
   "execution_count": 19,
   "id": "better-hunter",
   "metadata": {},
   "outputs": [
    {
     "data": {
      "text/plain": [
       "STN         0\n",
       "ST          0\n",
       "DATETIME    0\n",
       "H           0\n",
       "Temp        0\n",
       "P           0\n",
       "Vm          0\n",
       "Vmsat       0\n",
       "dtype: int64"
      ]
     },
     "execution_count": 19,
     "metadata": {},
     "output_type": "execute_result"
    }
   ],
   "source": [
    "dataset.isna().sum()"
   ]
  },
  {
   "cell_type": "markdown",
   "id": "aging-sydney",
   "metadata": {},
   "source": [
    "Drop those rows to keep this initial tutorial simple."
   ]
  },
  {
   "cell_type": "code",
   "execution_count": 20,
   "id": "concerned-daniel",
   "metadata": {},
   "outputs": [
    {
     "data": {
      "text/html": [
       "<div>\n",
       "<style scoped>\n",
       "    .dataframe tbody tr th:only-of-type {\n",
       "        vertical-align: middle;\n",
       "    }\n",
       "\n",
       "    .dataframe tbody tr th {\n",
       "        vertical-align: top;\n",
       "    }\n",
       "\n",
       "    .dataframe thead th {\n",
       "        text-align: right;\n",
       "    }\n",
       "</style>\n",
       "<table border=\"1\" class=\"dataframe\">\n",
       "  <thead>\n",
       "    <tr style=\"text-align: right;\">\n",
       "      <th></th>\n",
       "      <th>STN</th>\n",
       "      <th>ST</th>\n",
       "      <th>DATETIME</th>\n",
       "      <th>H</th>\n",
       "      <th>Temp</th>\n",
       "      <th>P</th>\n",
       "      <th>Vm</th>\n",
       "      <th>Vmsat</th>\n",
       "    </tr>\n",
       "  </thead>\n",
       "  <tbody>\n",
       "    <tr>\n",
       "      <th>870948</th>\n",
       "      <td>東沙島浮標</td>\n",
       "      <td>C6V27</td>\n",
       "      <td>2018-12-30 18:00:00</td>\n",
       "      <td>5.08</td>\n",
       "      <td>23.2</td>\n",
       "      <td>1021.8</td>\n",
       "      <td>8.6</td>\n",
       "      <td>15.245345</td>\n",
       "    </tr>\n",
       "    <tr>\n",
       "      <th>870954</th>\n",
       "      <td>東沙島浮標</td>\n",
       "      <td>C6V27</td>\n",
       "      <td>2018-12-31 00:00:00</td>\n",
       "      <td>4.14</td>\n",
       "      <td>23.1</td>\n",
       "      <td>1022.4</td>\n",
       "      <td>10.1</td>\n",
       "      <td>13.653247</td>\n",
       "    </tr>\n",
       "    <tr>\n",
       "      <th>870960</th>\n",
       "      <td>東沙島浮標</td>\n",
       "      <td>C6V27</td>\n",
       "      <td>2018-12-31 06:00:00</td>\n",
       "      <td>3.43</td>\n",
       "      <td>23.0</td>\n",
       "      <td>1022.2</td>\n",
       "      <td>11.8</td>\n",
       "      <td>13.653247</td>\n",
       "    </tr>\n",
       "    <tr>\n",
       "      <th>870966</th>\n",
       "      <td>東沙島浮標</td>\n",
       "      <td>C6V27</td>\n",
       "      <td>2018-12-31 12:00:00</td>\n",
       "      <td>3.35</td>\n",
       "      <td>23.1</td>\n",
       "      <td>1021.9</td>\n",
       "      <td>10.0</td>\n",
       "      <td>13.653247</td>\n",
       "    </tr>\n",
       "    <tr>\n",
       "      <th>870972</th>\n",
       "      <td>東沙島浮標</td>\n",
       "      <td>C6V27</td>\n",
       "      <td>2018-12-31 18:00:00</td>\n",
       "      <td>3.22</td>\n",
       "      <td>23.0</td>\n",
       "      <td>1022.0</td>\n",
       "      <td>9.5</td>\n",
       "      <td>13.653247</td>\n",
       "    </tr>\n",
       "  </tbody>\n",
       "</table>\n",
       "</div>"
      ],
      "text/plain": [
       "          STN     ST            DATETIME     H  Temp       P    Vm      Vmsat\n",
       "870948  東沙島浮標  C6V27 2018-12-30 18:00:00  5.08  23.2  1021.8   8.6  15.245345\n",
       "870954  東沙島浮標  C6V27 2018-12-31 00:00:00  4.14  23.1  1022.4  10.1  13.653247\n",
       "870960  東沙島浮標  C6V27 2018-12-31 06:00:00  3.43  23.0  1022.2  11.8  13.653247\n",
       "870966  東沙島浮標  C6V27 2018-12-31 12:00:00  3.35  23.1  1021.9  10.0  13.653247\n",
       "870972  東沙島浮標  C6V27 2018-12-31 18:00:00  3.22  23.0  1022.0   9.5  13.653247"
      ]
     },
     "execution_count": 20,
     "metadata": {},
     "output_type": "execute_result"
    }
   ],
   "source": [
    "dataset = dataset.dropna()\n",
    "dataset.tail()"
   ]
  },
  {
   "cell_type": "code",
   "execution_count": 21,
   "id": "efficient-inquiry",
   "metadata": {},
   "outputs": [
    {
     "data": {
      "text/plain": [
       "[<matplotlib.lines.Line2D at 0x2b64170f6a90>]"
      ]
     },
     "execution_count": 21,
     "metadata": {},
     "output_type": "execute_result"
    },
    {
     "data": {
      "image/png": "[encoded data removed]",
      "text/plain": [
       "<Figure size 3200x1600 with 1 Axes>"
      ]
     },
     "metadata": {
      "needs_background": "light"
     },
     "output_type": "display_data"
    }
   ],
   "source": [
    "plt.figure(figsize=(32,16),dpi=100)\n",
    "plt.plot(dataset['Vmsat'])"
   ]
  },
  {
   "cell_type": "markdown",
   "id": "difficult-contents",
   "metadata": {},
   "source": [
    "### Split the data into train and test\n",
    "\n",
    "Now split the dataset into a training set and a test set.\n",
    "\n",
    "Use the test set in the final evaluation of your models."
   ]
  },
  {
   "cell_type": "code",
   "execution_count": null,
   "id": "comic-truth",
   "metadata": {},
   "outputs": [],
   "source": [
    "train_dataset = dataset.sample(frac=0.8, random_state=0)\n",
    "test_dataset = dataset.drop(train_dataset.index)"
   ]
  },
  {
   "cell_type": "markdown",
   "id": "portuguese-sheriff",
   "metadata": {},
   "source": [
    "### Inspect the data\n",
    "\n",
    "Have a quick look at the joint distribution of a few pairs of columns from the training set."
   ]
  },
  {
   "cell_type": "code",
   "execution_count": null,
   "id": "expressed-philosophy",
   "metadata": {},
   "outputs": [],
   "source": [
    "sns.pairplot(train_dataset[['H', 'P', 'Temp', 'Vm','Vmsat']], diag_kind='kde')"
   ]
  },
  {
   "cell_type": "markdown",
   "id": "greek-protein",
   "metadata": {},
   "source": [
    "Also look at the overall statistics, note how each feature covers a very different range:"
   ]
  },
  {
   "cell_type": "code",
   "execution_count": null,
   "id": "unauthorized-millennium",
   "metadata": {},
   "outputs": [],
   "source": [
    "train_dataset.describe().transpose()"
   ]
  },
  {
   "cell_type": "markdown",
   "id": "least-happiness",
   "metadata": {},
   "source": [
    "### Split features from labels\n",
    "\n",
    "Separate the target value, the \"label\", from the features. This label is the value that you will train the model to predict."
   ]
  },
  {
   "cell_type": "code",
   "execution_count": null,
   "id": "beneficial-riverside",
   "metadata": {},
   "outputs": [],
   "source": [
    "train_features = train_dataset.copy()\n",
    "test_features = test_dataset.copy()\n",
    "\n",
    "train_labels = train_features.pop('H')\n",
    "test_labels = test_features.pop('H')"
   ]
  },
  {
   "cell_type": "markdown",
   "id": "israeli-klein",
   "metadata": {},
   "source": [
    "## Normalization\n",
    "\n",
    "In the table of statistics it's easy to see how different the ranges of each feature are."
   ]
  },
  {
   "cell_type": "code",
   "execution_count": null,
   "id": "interesting-lindsay",
   "metadata": {},
   "outputs": [],
   "source": [
    "train_dataset.describe().transpose()[['mean', 'std']]"
   ]
  },
  {
   "cell_type": "markdown",
   "id": "corresponding-convert",
   "metadata": {},
   "source": [
    "It is good practice to normalize features that use different scales and ranges. \n",
    "\n",
    "One reason this is important is because the features are multiplied by the model weights. So the scale of the outputs and the scale of the gradients are affected by the scale of the inputs. \n",
    "\n",
    "Although a model *might* converge without feature normalization, normalization makes training much more stable."
   ]
  },
  {
   "cell_type": "markdown",
   "id": "spanish-management",
   "metadata": {},
   "source": [
    "### The Normalization layer\n",
    "The `preprocessing.Normalization` layer is a clean and simple way to build that preprocessing into your model.\n",
    "\n",
    "The first step is to create the layer:"
   ]
  },
  {
   "cell_type": "code",
   "execution_count": null,
   "id": "built-andrew",
   "metadata": {},
   "outputs": [],
   "source": [
    "normalizer = preprocessing.Normalization(axis=-1)"
   ]
  },
  {
   "cell_type": "markdown",
   "id": "random-mileage",
   "metadata": {},
   "source": [
    "Then `.adapt()` it to the data:"
   ]
  },
  {
   "cell_type": "code",
   "execution_count": null,
   "id": "legislative-philosophy",
   "metadata": {},
   "outputs": [],
   "source": [
    "normalizer.adapt(np.array(train_features))"
   ]
  },
  {
   "cell_type": "markdown",
   "id": "missing-profit",
   "metadata": {},
   "source": [
    "This calculates the mean and variance, and stores them in the layer. "
   ]
  },
  {
   "cell_type": "code",
   "execution_count": null,
   "id": "fallen-design",
   "metadata": {},
   "outputs": [],
   "source": [
    "print(normalizer.mean.numpy())"
   ]
  },
  {
   "cell_type": "markdown",
   "id": "eleven-victor",
   "metadata": {},
   "source": [
    "When the layer is called it returns the input data, with each feature independently normalized:"
   ]
  },
  {
   "cell_type": "code",
   "execution_count": null,
   "id": "wireless-singing",
   "metadata": {},
   "outputs": [],
   "source": [
    "first = np.array(train_features[:1])\n",
    "\n",
    "with np.printoptions(precision=2, suppress=True):\n",
    "  print('First example:', first)\n",
    "  print()\n",
    "  print('Normalized:', normalizer(first).numpy())"
   ]
  },
  {
   "cell_type": "markdown",
   "id": "short-stuff",
   "metadata": {},
   "source": [
    "## Linear regression\n",
    "\n",
    "Before building a DNN model, start with a linear regression."
   ]
  },
  {
   "cell_type": "markdown",
   "id": "unknown-sweden",
   "metadata": {},
   "source": [
    "### One Variable\n",
    "\n",
    "Start with a single-variable linear regression, to predict `H` from `Vmsat`.\n",
    "\n",
    "Training a model with `tf.keras` typically starts by defining the model architecture.\n",
    "\n",
    "In this case use a `keras.Sequential` model. This model represents a sequence of steps. In this case there are two steps:\n",
    "\n",
    "* Normalize the input `Vmsat`.\n",
    "* Apply a linear transformation ($y = mx+b$) to produce 1 output using `layers.Dense`.\n",
    "\n",
    "The number of _inputs_ can either be set by the `input_shape` argument, or automatically when the model is run for the first time."
   ]
  },
  {
   "cell_type": "markdown",
   "id": "norman-sound",
   "metadata": {},
   "source": [
    "First create the horsepower `Normalization` layer:"
   ]
  },
  {
   "cell_type": "code",
   "execution_count": null,
   "id": "prompt-rwanda",
   "metadata": {},
   "outputs": [],
   "source": [
    "Vmsat = np.array(train_features['Vmsat'])\n",
    "\n",
    "Vmsat_normalizer = preprocessing.Normalization(input_shape=[1,], axis=None)\n",
    "Vmsat_normalizer.adapt(Vmsat)"
   ]
  },
  {
   "cell_type": "markdown",
   "id": "ideal-italian",
   "metadata": {},
   "source": [
    "Build the sequential model:"
   ]
  },
  {
   "cell_type": "code",
   "execution_count": null,
   "id": "strong-analyst",
   "metadata": {},
   "outputs": [],
   "source": [
    "Vmsat_model = tf.keras.Sequential([\n",
    "    Vmsat_normalizer,\n",
    "    layers.Dense(units=1)\n",
    "])\n",
    "\n",
    "Vmsat_model.summary()"
   ]
  },
  {
   "cell_type": "markdown",
   "id": "scheduled-sequence",
   "metadata": {},
   "source": [
    "This model will predict `H` from `Vmsat`.\n",
    "\n",
    "Run the untrained model on the first 10 Vmsat values. The output won't be good, but you'll see that it has the expected shape, `(10,1)`:"
   ]
  },
  {
   "cell_type": "code",
   "execution_count": null,
   "id": "increasing-shower",
   "metadata": {},
   "outputs": [],
   "source": [
    "Vmsat_model.predict(Vmsat[:10])"
   ]
  },
  {
   "cell_type": "markdown",
   "id": "alpine-slovakia",
   "metadata": {},
   "source": [
    "Once the model is built, configure the training procedure using the `Model.compile()` method. The most important arguments to compile are the `loss` and the `optimizer` since these define what will be optimized (`mean_absolute_error`) and how (using the `optimizers.Adam`)."
   ]
  },
  {
   "cell_type": "code",
   "execution_count": null,
   "id": "continuous-stomach",
   "metadata": {},
   "outputs": [],
   "source": [
    "Vmsat_model.compile(\n",
    "    optimizer=tf.optimizers.Adam(learning_rate=0.1),\n",
    "    loss='mean_absolute_error')"
   ]
  },
  {
   "cell_type": "markdown",
   "id": "featured-contractor",
   "metadata": {},
   "source": [
    "Once the training is configured, use `Model.fit()` to execute the training:"
   ]
  },
  {
   "cell_type": "code",
   "execution_count": null,
   "id": "accredited-husband",
   "metadata": {},
   "outputs": [],
   "source": [
    "%%time\n",
    "history = Vmsat_model.fit(\n",
    "    train_features['Vmsat'], train_labels,\n",
    "    epochs=100,\n",
    "    # suppress logging\n",
    "    verbose=0,\n",
    "    # Calculate validation results on 20% of the training data\n",
    "    validation_split = 0.2)"
   ]
  },
  {
   "cell_type": "markdown",
   "id": "trying-diploma",
   "metadata": {},
   "source": [
    "Visualize the model's training progress using the stats stored in the `history` object."
   ]
  },
  {
   "cell_type": "code",
   "execution_count": null,
   "id": "bigger-louisiana",
   "metadata": {},
   "outputs": [],
   "source": [
    "hist = pd.DataFrame(history.history)\n",
    "hist['epoch'] = history.epoch\n",
    "hist.tail()"
   ]
  },
  {
   "cell_type": "code",
   "execution_count": null,
   "id": "greatest-father",
   "metadata": {},
   "outputs": [],
   "source": [
    "def plot_loss(history):\n",
    "  plt.plot(history.history['loss'], label='loss')\n",
    "  plt.plot(history.history['val_loss'], label='val_loss')\n",
    "  plt.ylim([0, 1])\n",
    "  plt.xlabel('Epoch')\n",
    "  plt.ylabel('Error [H]')\n",
    "  plt.legend()\n",
    "  plt.grid(True)"
   ]
  },
  {
   "cell_type": "code",
   "execution_count": null,
   "id": "nominated-celebration",
   "metadata": {
    "scrolled": true
   },
   "outputs": [],
   "source": [
    "plot_loss(history)"
   ]
  },
  {
   "cell_type": "markdown",
   "id": "demanding-graduate",
   "metadata": {},
   "source": [
    "Collect the results on the test set, for later:"
   ]
  },
  {
   "cell_type": "code",
   "execution_count": null,
   "id": "tracked-roberts",
   "metadata": {},
   "outputs": [],
   "source": [
    "test_results = {}\n",
    "\n",
    "test_results['Vmsat_model'] = Vmsat_model.evaluate(\n",
    "    test_features['Vmsat'],\n",
    "    test_labels, verbose=0)"
   ]
  },
  {
   "cell_type": "markdown",
   "id": "martial-wrestling",
   "metadata": {},
   "source": [
    "Since this is a single variable regression it's easy to look at the model's predictions as a function of the input:"
   ]
  },
  {
   "cell_type": "code",
   "execution_count": null,
   "id": "commercial-graduate",
   "metadata": {},
   "outputs": [],
   "source": [
    "x = tf.linspace(0.0, 20, 251)\n",
    "y = Vmsat_model.predict(x)"
   ]
  },
  {
   "cell_type": "code",
   "execution_count": null,
   "id": "vocal-bryan",
   "metadata": {},
   "outputs": [],
   "source": [
    "def plot_Vmsat(x, y):\n",
    "  plt.scatter(train_features['Vmsat'], train_labels, label='Data')\n",
    "  plt.plot(x, y, color='k', label='Predictions')\n",
    "  plt.xlabel('Vmsat')\n",
    "  plt.ylabel('H')\n",
    "  plt.legend()"
   ]
  },
  {
   "cell_type": "code",
   "execution_count": null,
   "id": "conceptual-plastic",
   "metadata": {
    "scrolled": true
   },
   "outputs": [],
   "source": [
    "plt.figure(figsize=(10,6),dpi=200)\n",
    "plot_Vmsat(x,y)"
   ]
  },
  {
   "cell_type": "markdown",
   "id": "inclusive-hotel",
   "metadata": {},
   "source": [
    "### Multiple inputs"
   ]
  },
  {
   "cell_type": "markdown",
   "id": "given-cooper",
   "metadata": {},
   "source": [
    "You can use an almost identical setup to make predictions based on multiple inputs. This model still does the same $y = mx+b$ except that $m$ is a matrix and $b$ is a vector.\n",
    "\n",
    "This time use the `Normalization` layer that was adapted to the whole dataset."
   ]
  },
  {
   "cell_type": "code",
   "execution_count": null,
   "id": "insured-kuwait",
   "metadata": {},
   "outputs": [],
   "source": [
    "linear_model = tf.keras.Sequential([\n",
    "    normalizer,\n",
    "    layers.Dense(units=1)\n",
    "])"
   ]
  },
  {
   "cell_type": "markdown",
   "id": "streaming-pacific",
   "metadata": {},
   "source": [
    "When you call this model on a batch of inputs, it produces `units=1` outputs for each example."
   ]
  },
  {
   "cell_type": "code",
   "execution_count": null,
   "id": "armed-requirement",
   "metadata": {},
   "outputs": [],
   "source": [
    "linear_model.predict(train_features[:10])"
   ]
  },
  {
   "cell_type": "markdown",
   "id": "nervous-round",
   "metadata": {},
   "source": [
    "When you call the model it's weight matrices will be built. Now you can see that the `kernel` (the $m$ in $y=mx+b$) has a shape of `(4,1)`."
   ]
  },
  {
   "cell_type": "code",
   "execution_count": null,
   "id": "juvenile-corpus",
   "metadata": {},
   "outputs": [],
   "source": [
    "linear_model.layers[1].kernel"
   ]
  },
  {
   "cell_type": "markdown",
   "id": "disciplinary-swedish",
   "metadata": {},
   "source": [
    "Use the same `compile` and `fit` calls as for the single input `Vmsat` model:"
   ]
  },
  {
   "cell_type": "code",
   "execution_count": null,
   "id": "inappropriate-rings",
   "metadata": {},
   "outputs": [],
   "source": [
    "linear_model.compile(\n",
    "    optimizer=tf.optimizers.Adam(learning_rate=0.1),\n",
    "    loss='mean_absolute_error')"
   ]
  },
  {
   "cell_type": "code",
   "execution_count": null,
   "id": "revolutionary-defendant",
   "metadata": {},
   "outputs": [],
   "source": [
    "%%time\n",
    "history = linear_model.fit(\n",
    "    train_features, train_labels, \n",
    "    epochs=100,\n",
    "    # suppress logging\n",
    "    verbose=0,\n",
    "    # Calculate validation results on 20% of the training data\n",
    "    validation_split = 0.2)"
   ]
  },
  {
   "cell_type": "code",
   "execution_count": null,
   "id": "hungarian-flour",
   "metadata": {},
   "outputs": [],
   "source": [
    "plot_loss(history)"
   ]
  },
  {
   "cell_type": "code",
   "execution_count": null,
   "id": "supported-growth",
   "metadata": {},
   "outputs": [],
   "source": [
    "test_results['linear_model'] = linear_model.evaluate(\n",
    "    test_features, test_labels, verbose=0)"
   ]
  },
  {
   "cell_type": "code",
   "execution_count": null,
   "id": "governmental-gender",
   "metadata": {},
   "outputs": [],
   "source": [
    "x = tf.linspace(0.0, 50, 251)\n",
    "y = linear_model.predict(x)"
   ]
  },
  {
   "cell_type": "code",
   "execution_count": null,
   "id": "ranking-passing",
   "metadata": {},
   "outputs": [],
   "source": [
    "plot_Vmsat(x,y)"
   ]
  },
  {
   "cell_type": "code",
   "execution_count": null,
   "id": "published-option",
   "metadata": {},
   "outputs": [],
   "source": [
    "pd.DataFrame(test_results, index=['Mean absolute error [H]']).T"
   ]
  },
  {
   "cell_type": "markdown",
   "id": "upper-lunch",
   "metadata": {},
   "source": [
    "## A DNN regression"
   ]
  },
  {
   "cell_type": "markdown",
   "id": "covered-awareness",
   "metadata": {},
   "source": [
    "The previous section implemented linear models for single and multiple inputs.\n",
    "\n",
    "This section implements single-input and multiple-input DNN models. The code is basically the same except the model is expanded to include some \"hidden\"  non-linear layers. The name \"hidden\" here just means not directly connected to the inputs or outputs."
   ]
  },
  {
   "cell_type": "markdown",
   "id": "arctic-carter",
   "metadata": {},
   "source": [
    "These models will contain a few more layers than the linear model:\n",
    "\n",
    "* The normalization layer.\n",
    "* Two hidden, nonlinear, `Dense` layers using the `relu` nonlinearity.\n",
    "* A linear single-output layer.\n",
    "\n",
    "Both will use the same training procedure so the `compile` method is included in the `build_and_compile_model` function below."
   ]
  },
  {
   "cell_type": "code",
   "execution_count": null,
   "id": "fatty-texture",
   "metadata": {},
   "outputs": [],
   "source": [
    "def build_and_compile_model(norm):\n",
    "  model = keras.Sequential([\n",
    "      norm,\n",
    "      layers.Dense(64, activation='relu'),\n",
    "      layers.Dense(64, activation='relu'),\n",
    "      layers.Dense(1)\n",
    "  ])\n",
    "\n",
    "  model.compile(loss='mean_absolute_error',\n",
    "                optimizer=tf.keras.optimizers.Adam(0.001))\n",
    "  return model"
   ]
  },
  {
   "cell_type": "markdown",
   "id": "declared-contents",
   "metadata": {},
   "source": [
    "### One variable"
   ]
  },
  {
   "cell_type": "markdown",
   "id": "protective-contribution",
   "metadata": {},
   "source": [
    "Start with a DNN model for a single input: \"Vmsat\""
   ]
  },
  {
   "cell_type": "code",
   "execution_count": null,
   "id": "according-character",
   "metadata": {},
   "outputs": [],
   "source": [
    "dnn_Vmsat_model = build_and_compile_model(Vmsat_normalizer)"
   ]
  },
  {
   "cell_type": "markdown",
   "id": "floating-fundamental",
   "metadata": {},
   "source": [
    "This model has quite a few more trainable parameters than the linear models."
   ]
  },
  {
   "cell_type": "code",
   "execution_count": null,
   "id": "muslim-theory",
   "metadata": {
    "scrolled": true
   },
   "outputs": [],
   "source": [
    "dnn_Vmsat_model.summary()"
   ]
  },
  {
   "cell_type": "markdown",
   "id": "freelance-headline",
   "metadata": {},
   "source": [
    "Train the model:"
   ]
  },
  {
   "cell_type": "code",
   "execution_count": null,
   "id": "reflected-camera",
   "metadata": {},
   "outputs": [],
   "source": [
    "%%time\n",
    "history = dnn_Vmsat_model.fit(\n",
    "    train_features['Vmsat'], train_labels,\n",
    "    validation_split=0.2,\n",
    "    verbose=0, epochs=100)"
   ]
  },
  {
   "cell_type": "code",
   "execution_count": null,
   "id": "atomic-throat",
   "metadata": {},
   "outputs": [],
   "source": [
    "plot_loss(history)"
   ]
  },
  {
   "cell_type": "code",
   "execution_count": null,
   "id": "rubber-gauge",
   "metadata": {},
   "outputs": [],
   "source": [
    "x = tf.linspace(0.0, 20, 251)\n",
    "y = dnn_Vmsat_model.predict(x)"
   ]
  },
  {
   "cell_type": "code",
   "execution_count": null,
   "id": "progressive-performer",
   "metadata": {
    "scrolled": false
   },
   "outputs": [],
   "source": [
    "plt.figure(figsize=(10,6),dpi=200)\n",
    "plot_Vmsat(x,y)"
   ]
  },
  {
   "cell_type": "code",
   "execution_count": null,
   "id": "coordinate-arthur",
   "metadata": {},
   "outputs": [],
   "source": [
    "test_results['dnn_Vmsat_model'] = dnn_Vmsat_model.evaluate(\n",
    "    test_features['Vmsat'], test_labels,\n",
    "    verbose=0)"
   ]
  },
  {
   "cell_type": "code",
   "execution_count": null,
   "id": "religious-ireland",
   "metadata": {},
   "outputs": [],
   "source": [
    "pd.DataFrame(test_results, index=['Mean absolute error [H]']).T"
   ]
  },
  {
   "cell_type": "code",
   "execution_count": null,
   "id": "altered-nelson",
   "metadata": {},
   "outputs": [],
   "source": []
  },
  {
   "cell_type": "code",
   "execution_count": null,
   "id": "mineral-fundamental",
   "metadata": {},
   "outputs": [],
   "source": [
    "x = tf.linspace(0.0, 20, 251)\n",
    "y1 = dnn_Vmsat_model.predict(x)\n",
    "y = linear_model.predict(x)\n",
    "y = Vmsat_model.predict(x)"
   ]
  },
  {
   "cell_type": "code",
   "execution_count": null,
   "id": "closing-hormone",
   "metadata": {},
   "outputs": [],
   "source": []
  },
  {
   "cell_type": "code",
   "execution_count": null,
   "id": "victorian-element",
   "metadata": {},
   "outputs": [],
   "source": []
  }
 ],
 "metadata": {
  "kernelspec": {
   "display_name": "Python 3",
   "language": "python",
   "name": "python3"
  },
  "language_info": {
   "codemirror_mode": {
    "name": "ipython",
    "version": 3
   },
   "file_extension": ".py",
   "mimetype": "text/x-python",
   "name": "python",
   "nbconvert_exporter": "python",
   "pygments_lexer": "ipython3",
   "version": "3.7.10"
  }
 },
 "nbformat": 4,
 "nbformat_minor": 5
}
