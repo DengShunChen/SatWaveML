{
 "cells": [
  {
   "cell_type": "markdown",
   "id": "weekly-exclusive",
   "metadata": {},
   "source": [
    "## Power law distribution"
   ]
  },
  {
   "cell_type": "code",
   "execution_count": 12,
   "id": "charged-vegetable",
   "metadata": {},
   "outputs": [],
   "source": [
    "def u2tou10(u1,L1,L2):\n",
    "    u2 = u1*((L2/L1)**0.08)\n",
    "    return u2"
   ]
  },
  {
   "cell_type": "markdown",
   "id": "exclusive-obligation",
   "metadata": {},
   "source": [
    "### TEST"
   ]
  },
  {
   "cell_type": "code",
   "execution_count": 22,
   "id": "lined-rebound",
   "metadata": {},
   "outputs": [
    {
     "data": {
      "text/plain": [
       "56.87057308780143"
      ]
     },
     "execution_count": 22,
     "metadata": {},
     "output_type": "execute_result"
    }
   ],
   "source": [
    "u2tou10(50,2,10)"
   ]
  },
  {
   "cell_type": "code",
   "execution_count": 32,
   "id": "martial-geology",
   "metadata": {},
   "outputs": [
    {
     "name": "stdout",
     "output_type": "stream",
     "text": [
      "20.0\n",
      "20.20781098463367\n",
      "20.393618640345707\n",
      "20.561787397645375\n",
      "20.715487446408893\n",
      "20.857096102799744\n",
      "20.9884431540158\n",
      "21.110967846479266\n",
      "21.225823208306252\n",
      "21.333947615353914\n",
      "21.436115237893155\n",
      "21.53297244472145\n",
      "21.62506461744385\n",
      "21.712856260789962\n",
      "21.796746328598747\n",
      "21.877080072107738\n",
      "21.954158318377694\n",
      "22.028244821325845\n",
      "22.099572147670163\n",
      "22.168346435498897\n",
      "22.23475127558366\n",
      "22.29895090302552\n",
      "22.361092841563973\n",
      "22.42131010969681\n",
      "22.479723073143198\n",
      "22.536441009720054\n",
      "22.59156343871402\n",
      "22.645181256132094\n",
      "22.697377708958356\n",
      "22.748229235120576\n"
     ]
    }
   ],
   "source": [
    "import numpy as np\n",
    "for i in np.linspace(2,10,30):\n",
    "    print(u2tou10(20,2,i))"
   ]
  },
  {
   "cell_type": "code",
   "execution_count": null,
   "id": "champion-credits",
   "metadata": {},
   "outputs": [],
   "source": []
  }
 ],
 "metadata": {
  "kernelspec": {
   "display_name": "Python 3",
   "language": "python",
   "name": "python3"
  },
  "language_info": {
   "codemirror_mode": {
    "name": "ipython",
    "version": 3
   },
   "file_extension": ".py",
   "mimetype": "text/x-python",
   "name": "python",
   "nbconvert_exporter": "python",
   "pygments_lexer": "ipython3",
   "version": "3.7.10"
  }
 },
 "nbformat": 4,
 "nbformat_minor": 5
}
